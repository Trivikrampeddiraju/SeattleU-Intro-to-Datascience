{
 "cells": [
  {
   "cell_type": "markdown",
   "id": "25a84d17",
   "metadata": {},
   "source": [
    " TW 1\n",
    " pandas series and DataFrame \n",
    " -> Practice Pandas Series and DataFrame with examples.\"\n",
    " Write full names of your team members who worked together\n",
    " Submission\n",
    " Push the completed code to your Github repository.\n",
    " \n",
    " by  peddiraju trivikram and shivaram muppidi  \n",
    " "
   ]
  },
  {
   "cell_type": "code",
   "execution_count": null,
   "id": "e35cca25",
   "metadata": {},
   "outputs": [],
   "source": []
  },
  {
   "cell_type": "code",
   "execution_count": 10,
   "id": "5db3e2b4",
   "metadata": {},
   "outputs": [],
   "source": [
    "import pandas as pd\n"
   ]
  },
  {
   "cell_type": "code",
   "execution_count": 12,
   "id": "19ac549b",
   "metadata": {},
   "outputs": [
    {
     "data": {
      "text/plain": [
       "0           Mouse\n",
       "1         Giraffe\n",
       "2           Tiger\n",
       "3             Dog\n",
       "4    Hippopotamus\n",
       "5           Moose\n",
       "6            Bear\n",
       "dtype: object"
      ]
     },
     "execution_count": 12,
     "metadata": {},
     "output_type": "execute_result"
    }
   ],
   "source": [
    "import pandas as pd\n",
    "alist = ['Mouse', 'Giraffe', 'Tiger', 'Dog', 'Hippopotamus', 'Moose', 'Bear']\n",
    "animals = pd.Series(alist)\n",
    "animals"
   ]
  },
  {
   "cell_type": "code",
   "execution_count": 13,
   "id": "4e541eae",
   "metadata": {},
   "outputs": [
    {
     "data": {
      "text/plain": [
       "'Tiger'"
      ]
     },
     "execution_count": 13,
     "metadata": {},
     "output_type": "execute_result"
    }
   ],
   "source": [
    "animals[2]"
   ]
  },
  {
   "cell_type": "code",
   "execution_count": 14,
   "id": "6145f420",
   "metadata": {},
   "outputs": [
    {
     "data": {
      "text/plain": [
       "'Tiger'"
      ]
     },
     "execution_count": 14,
     "metadata": {},
     "output_type": "execute_result"
    }
   ],
   "source": [
    "animals.iloc[2]"
   ]
  },
  {
   "cell_type": "code",
   "execution_count": 15,
   "id": "dfa93abe",
   "metadata": {},
   "outputs": [
    {
     "data": {
      "text/plain": [
       "'Tiger'"
      ]
     },
     "execution_count": 15,
     "metadata": {},
     "output_type": "execute_result"
    }
   ],
   "source": [
    "animals.loc[2]"
   ]
  },
  {
   "cell_type": "code",
   "execution_count": 17,
   "id": "5266c214",
   "metadata": {},
   "outputs": [
    {
     "data": {
      "text/plain": [
       "0           Mouse\n",
       "1         Giraffe\n",
       "2           Tiger\n",
       "3             Dog\n",
       "4    Hippopotamus\n",
       "5           Moose\n",
       "6            Bear\n",
       "dtype: object"
      ]
     },
     "execution_count": 17,
     "metadata": {},
     "output_type": "execute_result"
    }
   ],
   "source": [
    "s1=pd.Series(alist,index=[0,1,2,3,4,5,6])\n",
    "s1"
   ]
  },
  {
   "cell_type": "code",
   "execution_count": 18,
   "id": "8911a24e",
   "metadata": {},
   "outputs": [
    {
     "data": {
      "text/plain": [
       "a           Mouse\n",
       "b         Giraffe\n",
       "c           Tiger\n",
       "d             Dog\n",
       "e    Hippopotamus\n",
       "f           Moose\n",
       "g            Bear\n",
       "dtype: object"
      ]
     },
     "execution_count": 18,
     "metadata": {},
     "output_type": "execute_result"
    }
   ],
   "source": [
    "s2=pd.Series(alist,index=['a','b','c','d','e','f','g'])\n",
    "s2"
   ]
  },
  {
   "cell_type": "code",
   "execution_count": 19,
   "id": "fe277b42",
   "metadata": {},
   "outputs": [
    {
     "data": {
      "text/plain": [
       "'Tiger'"
      ]
     },
     "execution_count": 19,
     "metadata": {},
     "output_type": "execute_result"
    }
   ],
   "source": [
    "s2['c']"
   ]
  },
  {
   "cell_type": "code",
   "execution_count": 20,
   "id": "b66766fb",
   "metadata": {},
   "outputs": [
    {
     "data": {
      "text/plain": [
       "'Tiger'"
      ]
     },
     "execution_count": 20,
     "metadata": {},
     "output_type": "execute_result"
    }
   ],
   "source": [
    "s2.loc['c']"
   ]
  },
  {
   "cell_type": "code",
   "execution_count": 21,
   "id": "46e69e9b",
   "metadata": {},
   "outputs": [
    {
     "data": {
      "text/plain": [
       "'Tiger'"
      ]
     },
     "execution_count": 21,
     "metadata": {},
     "output_type": "execute_result"
    }
   ],
   "source": [
    "s2.iloc[2]"
   ]
  },
  {
   "cell_type": "code",
   "execution_count": 22,
   "id": "bfd29b8d",
   "metadata": {},
   "outputs": [
    {
     "data": {
      "text/plain": [
       "0        Chris\n",
       "1        Kevin\n",
       "2          Bob\n",
       "3        Vinod\n",
       "4       Daniel\n",
       "5          Fil\n",
       "6    Stephanie\n",
       "dtype: object"
      ]
     },
     "execution_count": 22,
     "metadata": {},
     "output_type": "execute_result"
    }
   ],
   "source": [
    "names=['Chris','Kevin','Bob','Vinod','Daniel','Fil','Stephanie']\n",
    "owners=pd.Series(names)\n",
    "owners"
   ]
  },
  {
   "cell_type": "code",
   "execution_count": 23,
   "id": "d4312bb5",
   "metadata": {},
   "outputs": [
    {
     "data": {
      "text/html": [
       "<div>\n",
       "<style scoped>\n",
       "    .dataframe tbody tr th:only-of-type {\n",
       "        vertical-align: middle;\n",
       "    }\n",
       "\n",
       "    .dataframe tbody tr th {\n",
       "        vertical-align: top;\n",
       "    }\n",
       "\n",
       "    .dataframe thead th {\n",
       "        text-align: right;\n",
       "    }\n",
       "</style>\n",
       "<table border=\"1\" class=\"dataframe\">\n",
       "  <thead>\n",
       "    <tr style=\"text-align: right;\">\n",
       "      <th></th>\n",
       "      <th>animals</th>\n",
       "      <th>owners</th>\n",
       "    </tr>\n",
       "  </thead>\n",
       "  <tbody>\n",
       "    <tr>\n",
       "      <th>0</th>\n",
       "      <td>Mouse</td>\n",
       "      <td>Chris</td>\n",
       "    </tr>\n",
       "    <tr>\n",
       "      <th>1</th>\n",
       "      <td>Giraffe</td>\n",
       "      <td>Kevin</td>\n",
       "    </tr>\n",
       "    <tr>\n",
       "      <th>2</th>\n",
       "      <td>Tiger</td>\n",
       "      <td>Bob</td>\n",
       "    </tr>\n",
       "    <tr>\n",
       "      <th>3</th>\n",
       "      <td>Dog</td>\n",
       "      <td>Vinod</td>\n",
       "    </tr>\n",
       "    <tr>\n",
       "      <th>4</th>\n",
       "      <td>Hippopotamus</td>\n",
       "      <td>Daniel</td>\n",
       "    </tr>\n",
       "    <tr>\n",
       "      <th>5</th>\n",
       "      <td>Moose</td>\n",
       "      <td>Fil</td>\n",
       "    </tr>\n",
       "    <tr>\n",
       "      <th>6</th>\n",
       "      <td>Bear</td>\n",
       "      <td>Stephanie</td>\n",
       "    </tr>\n",
       "  </tbody>\n",
       "</table>\n",
       "</div>"
      ],
      "text/plain": [
       "        animals     owners\n",
       "0         Mouse      Chris\n",
       "1       Giraffe      Kevin\n",
       "2         Tiger        Bob\n",
       "3           Dog      Vinod\n",
       "4  Hippopotamus     Daniel\n",
       "5         Moose        Fil\n",
       "6          Bear  Stephanie"
      ]
     },
     "execution_count": 23,
     "metadata": {},
     "output_type": "execute_result"
    }
   ],
   "source": [
    "frame={'animals':animals,'owners':owners}\n",
    "df=pd.DataFrame(frame)\n",
    "df"
   ]
  },
  {
   "cell_type": "code",
   "execution_count": 24,
   "id": "bf8a84be",
   "metadata": {},
   "outputs": [
    {
     "data": {
      "text/plain": [
       "Index(['animals', 'owners'], dtype='object')"
      ]
     },
     "execution_count": 24,
     "metadata": {},
     "output_type": "execute_result"
    }
   ],
   "source": [
    "df.columns"
   ]
  },
  {
   "cell_type": "code",
   "execution_count": 25,
   "id": "74bc2fea",
   "metadata": {},
   "outputs": [
    {
     "data": {
      "text/plain": [
       "RangeIndex(start=0, stop=7, step=1)"
      ]
     },
     "execution_count": 25,
     "metadata": {},
     "output_type": "execute_result"
    }
   ],
   "source": [
    "df.index"
   ]
  },
  {
   "cell_type": "code",
   "execution_count": 26,
   "id": "9d4e31e1",
   "metadata": {},
   "outputs": [
    {
     "data": {
      "text/plain": [
       "pandas.core.series.Series"
      ]
     },
     "execution_count": 26,
     "metadata": {},
     "output_type": "execute_result"
    }
   ],
   "source": [
    "type(df['animals'])"
   ]
  },
  {
   "cell_type": "code",
   "execution_count": 27,
   "id": "d988893b",
   "metadata": {},
   "outputs": [
    {
     "data": {
      "text/plain": [
       "animals    Mouse\n",
       "owners     Chris\n",
       "Name: 0, dtype: object"
      ]
     },
     "execution_count": 27,
     "metadata": {},
     "output_type": "execute_result"
    }
   ],
   "source": [
    "df.iloc[0]"
   ]
  },
  {
   "cell_type": "code",
   "execution_count": 28,
   "id": "27cf09f3",
   "metadata": {},
   "outputs": [
    {
     "data": {
      "text/plain": [
       "'Chris'"
      ]
     },
     "execution_count": 28,
     "metadata": {},
     "output_type": "execute_result"
    }
   ],
   "source": [
    "df.iloc[0][1]"
   ]
  },
  {
   "cell_type": "code",
   "execution_count": 31,
   "id": "24de36fb",
   "metadata": {},
   "outputs": [
    {
     "data": {
      "text/html": [
       "<div>\n",
       "<style scoped>\n",
       "    .dataframe tbody tr th:only-of-type {\n",
       "        vertical-align: middle;\n",
       "    }\n",
       "\n",
       "    .dataframe tbody tr th {\n",
       "        vertical-align: top;\n",
       "    }\n",
       "\n",
       "    .dataframe thead th {\n",
       "        text-align: right;\n",
       "    }\n",
       "</style>\n",
       "<table border=\"1\" class=\"dataframe\">\n",
       "  <thead>\n",
       "    <tr style=\"text-align: right;\">\n",
       "      <th></th>\n",
       "      <th>animals</th>\n",
       "      <th>owners</th>\n",
       "    </tr>\n",
       "  </thead>\n",
       "  <tbody>\n",
       "    <tr>\n",
       "      <th>0</th>\n",
       "      <td>Mouse</td>\n",
       "      <td>Chris</td>\n",
       "    </tr>\n",
       "    <tr>\n",
       "      <th>1</th>\n",
       "      <td>Giraffe</td>\n",
       "      <td>Kevin</td>\n",
       "    </tr>\n",
       "    <tr>\n",
       "      <th>2</th>\n",
       "      <td>Tiger</td>\n",
       "      <td>Bob</td>\n",
       "    </tr>\n",
       "    <tr>\n",
       "      <th>3</th>\n",
       "      <td>Dog</td>\n",
       "      <td>Vinod</td>\n",
       "    </tr>\n",
       "    <tr>\n",
       "      <th>4</th>\n",
       "      <td>Hippopotamus</td>\n",
       "      <td>Daniel</td>\n",
       "    </tr>\n",
       "    <tr>\n",
       "      <th>5</th>\n",
       "      <td>Moose</td>\n",
       "      <td>Fil</td>\n",
       "    </tr>\n",
       "    <tr>\n",
       "      <th>6</th>\n",
       "      <td>Bear</td>\n",
       "      <td>Stephanie</td>\n",
       "    </tr>\n",
       "  </tbody>\n",
       "</table>\n",
       "</div>"
      ],
      "text/plain": [
       "        animals     owners\n",
       "0         Mouse      Chris\n",
       "1       Giraffe      Kevin\n",
       "2         Tiger        Bob\n",
       "3           Dog      Vinod\n",
       "4  Hippopotamus     Daniel\n",
       "5         Moose        Fil\n",
       "6          Bear  Stephanie"
      ]
     },
     "execution_count": 31,
     "metadata": {},
     "output_type": "execute_result"
    }
   ],
   "source": [
    "copy_df = df.copy()\n",
    "copy_df"
   ]
  },
  {
   "cell_type": "code",
   "execution_count": 32,
   "id": "3e1fe144",
   "metadata": {},
   "outputs": [
    {
     "data": {
      "text/html": [
       "<div>\n",
       "<style scoped>\n",
       "    .dataframe tbody tr th:only-of-type {\n",
       "        vertical-align: middle;\n",
       "    }\n",
       "\n",
       "    .dataframe tbody tr th {\n",
       "        vertical-align: top;\n",
       "    }\n",
       "\n",
       "    .dataframe thead th {\n",
       "        text-align: right;\n",
       "    }\n",
       "</style>\n",
       "<table border=\"1\" class=\"dataframe\">\n",
       "  <thead>\n",
       "    <tr style=\"text-align: right;\">\n",
       "      <th></th>\n",
       "      <th>animals</th>\n",
       "    </tr>\n",
       "  </thead>\n",
       "  <tbody>\n",
       "    <tr>\n",
       "      <th>0</th>\n",
       "      <td>Mouse</td>\n",
       "    </tr>\n",
       "    <tr>\n",
       "      <th>1</th>\n",
       "      <td>Giraffe</td>\n",
       "    </tr>\n",
       "    <tr>\n",
       "      <th>2</th>\n",
       "      <td>Tiger</td>\n",
       "    </tr>\n",
       "    <tr>\n",
       "      <th>3</th>\n",
       "      <td>Dog</td>\n",
       "    </tr>\n",
       "    <tr>\n",
       "      <th>4</th>\n",
       "      <td>Hippopotamus</td>\n",
       "    </tr>\n",
       "    <tr>\n",
       "      <th>5</th>\n",
       "      <td>Moose</td>\n",
       "    </tr>\n",
       "    <tr>\n",
       "      <th>6</th>\n",
       "      <td>Bear</td>\n",
       "    </tr>\n",
       "  </tbody>\n",
       "</table>\n",
       "</div>"
      ],
      "text/plain": [
       "        animals\n",
       "0         Mouse\n",
       "1       Giraffe\n",
       "2         Tiger\n",
       "3           Dog\n",
       "4  Hippopotamus\n",
       "5         Moose\n",
       "6          Bear"
      ]
     },
     "execution_count": 32,
     "metadata": {},
     "output_type": "execute_result"
    }
   ],
   "source": [
    "df3= df.drop(columns=['owners'])\n",
    "df3"
   ]
  },
  {
   "cell_type": "code",
   "execution_count": 33,
   "id": "5e16eb45",
   "metadata": {},
   "outputs": [
    {
     "data": {
      "text/html": [
       "<div>\n",
       "<style scoped>\n",
       "    .dataframe tbody tr th:only-of-type {\n",
       "        vertical-align: middle;\n",
       "    }\n",
       "\n",
       "    .dataframe tbody tr th {\n",
       "        vertical-align: top;\n",
       "    }\n",
       "\n",
       "    .dataframe thead th {\n",
       "        text-align: right;\n",
       "    }\n",
       "</style>\n",
       "<table border=\"1\" class=\"dataframe\">\n",
       "  <thead>\n",
       "    <tr style=\"text-align: right;\">\n",
       "      <th></th>\n",
       "      <th>animals</th>\n",
       "      <th>owners</th>\n",
       "    </tr>\n",
       "  </thead>\n",
       "  <tbody>\n",
       "    <tr>\n",
       "      <th>2</th>\n",
       "      <td>Tiger</td>\n",
       "      <td>Bob</td>\n",
       "    </tr>\n",
       "    <tr>\n",
       "      <th>3</th>\n",
       "      <td>Dog</td>\n",
       "      <td>Vinod</td>\n",
       "    </tr>\n",
       "    <tr>\n",
       "      <th>4</th>\n",
       "      <td>Hippopotamus</td>\n",
       "      <td>Daniel</td>\n",
       "    </tr>\n",
       "    <tr>\n",
       "      <th>5</th>\n",
       "      <td>Moose</td>\n",
       "      <td>Fil</td>\n",
       "    </tr>\n",
       "    <tr>\n",
       "      <th>6</th>\n",
       "      <td>Bear</td>\n",
       "      <td>Stephanie</td>\n",
       "    </tr>\n",
       "  </tbody>\n",
       "</table>\n",
       "</div>"
      ],
      "text/plain": [
       "        animals     owners\n",
       "2         Tiger        Bob\n",
       "3           Dog      Vinod\n",
       "4  Hippopotamus     Daniel\n",
       "5         Moose        Fil\n",
       "6          Bear  Stephanie"
      ]
     },
     "execution_count": 33,
     "metadata": {},
     "output_type": "execute_result"
    }
   ],
   "source": [
    "df4 = df.drop([0,1])\n",
    "df4"
   ]
  },
  {
   "cell_type": "code",
   "execution_count": 34,
   "id": "67778a18",
   "metadata": {},
   "outputs": [
    {
     "data": {
      "text/plain": [
       "MultiIndex([(  'lama',  'speed'),\n",
       "            (  'lama', 'weight'),\n",
       "            (   'cow',  'speed'),\n",
       "            (   'cow', 'weight'),\n",
       "            ('falcon',  'speed'),\n",
       "            ('falcon', 'weight')],\n",
       "           )"
      ]
     },
     "execution_count": 34,
     "metadata": {},
     "output_type": "execute_result"
    }
   ],
   "source": [
    "midx=pd.MultiIndex(levels=[['lama','cow','falcon'],['speed','weight']],codes=[[0,0,1,1,2,2],[0,1,0,1,0,1]])\n",
    "midx"
   ]
  },
  {
   "cell_type": "code",
   "execution_count": 38,
   "id": "dd5abc09",
   "metadata": {},
   "outputs": [
    {
     "data": {
      "text/html": [
       "<div>\n",
       "<style scoped>\n",
       "    .dataframe tbody tr th:only-of-type {\n",
       "        vertical-align: middle;\n",
       "    }\n",
       "\n",
       "    .dataframe tbody tr th {\n",
       "        vertical-align: top;\n",
       "    }\n",
       "\n",
       "    .dataframe thead th {\n",
       "        text-align: right;\n",
       "    }\n",
       "</style>\n",
       "<table border=\"1\" class=\"dataframe\">\n",
       "  <thead>\n",
       "    <tr style=\"text-align: right;\">\n",
       "      <th></th>\n",
       "      <th></th>\n",
       "      <th>big</th>\n",
       "      <th>small</th>\n",
       "    </tr>\n",
       "  </thead>\n",
       "  <tbody>\n",
       "    <tr>\n",
       "      <th rowspan=\"2\" valign=\"top\">lama</th>\n",
       "      <th>speed</th>\n",
       "      <td>45</td>\n",
       "      <td>30.0</td>\n",
       "    </tr>\n",
       "    <tr>\n",
       "      <th>weight</th>\n",
       "      <td>200</td>\n",
       "      <td>100.0</td>\n",
       "    </tr>\n",
       "    <tr>\n",
       "      <th rowspan=\"2\" valign=\"top\">cow</th>\n",
       "      <th>speed</th>\n",
       "      <td>30</td>\n",
       "      <td>20.0</td>\n",
       "    </tr>\n",
       "    <tr>\n",
       "      <th>weight</th>\n",
       "      <td>250</td>\n",
       "      <td>150.0</td>\n",
       "    </tr>\n",
       "    <tr>\n",
       "      <th rowspan=\"2\" valign=\"top\">falcon</th>\n",
       "      <th>speed</th>\n",
       "      <td>320</td>\n",
       "      <td>250.0</td>\n",
       "    </tr>\n",
       "    <tr>\n",
       "      <th>weight</th>\n",
       "      <td>1</td>\n",
       "      <td>0.8</td>\n",
       "    </tr>\n",
       "  </tbody>\n",
       "</table>\n",
       "</div>"
      ],
      "text/plain": [
       "               big  small\n",
       "lama   speed    45   30.0\n",
       "       weight  200  100.0\n",
       "cow    speed    30   20.0\n",
       "       weight  250  150.0\n",
       "falcon speed   320  250.0\n",
       "       weight    1    0.8"
      ]
     },
     "execution_count": 38,
     "metadata": {},
     "output_type": "execute_result"
    }
   ],
   "source": [
    "df = pd.DataFrame(index=midx, columns=['big','small'],\n",
    "                data=[[45,30],[200,100],[30,20],[250,150],[320,250],[1,0.8]])\n",
    "df"
   ]
  },
  {
   "cell_type": "code",
   "execution_count": 39,
   "id": "fe3f1837",
   "metadata": {},
   "outputs": [
    {
     "data": {
      "text/html": [
       "<div>\n",
       "<style scoped>\n",
       "    .dataframe tbody tr th:only-of-type {\n",
       "        vertical-align: middle;\n",
       "    }\n",
       "\n",
       "    .dataframe tbody tr th {\n",
       "        vertical-align: top;\n",
       "    }\n",
       "\n",
       "    .dataframe thead th {\n",
       "        text-align: right;\n",
       "    }\n",
       "</style>\n",
       "<table border=\"1\" class=\"dataframe\">\n",
       "  <thead>\n",
       "    <tr style=\"text-align: right;\">\n",
       "      <th></th>\n",
       "      <th></th>\n",
       "      <th>big</th>\n",
       "    </tr>\n",
       "  </thead>\n",
       "  <tbody>\n",
       "    <tr>\n",
       "      <th rowspan=\"2\" valign=\"top\">lama</th>\n",
       "      <th>speed</th>\n",
       "      <td>45</td>\n",
       "    </tr>\n",
       "    <tr>\n",
       "      <th>weight</th>\n",
       "      <td>200</td>\n",
       "    </tr>\n",
       "    <tr>\n",
       "      <th rowspan=\"2\" valign=\"top\">falcon</th>\n",
       "      <th>speed</th>\n",
       "      <td>320</td>\n",
       "    </tr>\n",
       "    <tr>\n",
       "      <th>weight</th>\n",
       "      <td>1</td>\n",
       "    </tr>\n",
       "  </tbody>\n",
       "</table>\n",
       "</div>"
      ],
      "text/plain": [
       "               big\n",
       "lama   speed    45\n",
       "       weight  200\n",
       "falcon speed   320\n",
       "       weight    1"
      ]
     },
     "execution_count": 39,
     "metadata": {},
     "output_type": "execute_result"
    }
   ],
   "source": [
    "df.drop(index='cow', columns='small')"
   ]
  },
  {
   "cell_type": "code",
   "execution_count": 41,
   "id": "14ebbe39",
   "metadata": {},
   "outputs": [
    {
     "data": {
      "text/html": [
       "<div>\n",
       "<style scoped>\n",
       "    .dataframe tbody tr th:only-of-type {\n",
       "        vertical-align: middle;\n",
       "    }\n",
       "\n",
       "    .dataframe tbody tr th {\n",
       "        vertical-align: top;\n",
       "    }\n",
       "\n",
       "    .dataframe thead th {\n",
       "        text-align: right;\n",
       "    }\n",
       "</style>\n",
       "<table border=\"1\" class=\"dataframe\">\n",
       "  <thead>\n",
       "    <tr style=\"text-align: right;\">\n",
       "      <th></th>\n",
       "      <th></th>\n",
       "      <th>big</th>\n",
       "      <th>small</th>\n",
       "    </tr>\n",
       "  </thead>\n",
       "  <tbody>\n",
       "    <tr>\n",
       "      <th>lama</th>\n",
       "      <th>speed</th>\n",
       "      <td>45</td>\n",
       "      <td>30.0</td>\n",
       "    </tr>\n",
       "    <tr>\n",
       "      <th>cow</th>\n",
       "      <th>speed</th>\n",
       "      <td>30</td>\n",
       "      <td>20.0</td>\n",
       "    </tr>\n",
       "    <tr>\n",
       "      <th>falcon</th>\n",
       "      <th>speed</th>\n",
       "      <td>320</td>\n",
       "      <td>250.0</td>\n",
       "    </tr>\n",
       "  </tbody>\n",
       "</table>\n",
       "</div>"
      ],
      "text/plain": [
       "              big  small\n",
       "lama   speed   45   30.0\n",
       "cow    speed   30   20.0\n",
       "falcon speed  320  250.0"
      ]
     },
     "execution_count": 41,
     "metadata": {},
     "output_type": "execute_result"
    }
   ],
   "source": [
    "df.drop(index='weight',level=1)"
   ]
  },
  {
   "cell_type": "code",
   "execution_count": 42,
   "id": "d3b41794",
   "metadata": {},
   "outputs": [],
   "source": [
    "dept_s= ['CS','Bio','Chem','Phy','Eng']\n",
    "dept_s_series = pd.Series(dept_s, index=[0,1,2,3,4])"
   ]
  },
  {
   "cell_type": "code",
   "execution_count": 43,
   "id": "09361f4d",
   "metadata": {},
   "outputs": [],
   "source": [
    "floor_s = [5,3,3,2,4]\n",
    "floor_s_series= pd.Series(floor_s, index=[0,1,2,3,4])"
   ]
  },
  {
   "cell_type": "code",
   "execution_count": 44,
   "id": "e1cdeec5",
   "metadata": {},
   "outputs": [],
   "source": [
    "schedule = {'dept': dept_s_series,'floor': floor_s_series}"
   ]
  },
  {
   "cell_type": "code",
   "execution_count": 45,
   "id": "a808086a",
   "metadata": {},
   "outputs": [
    {
     "data": {
      "text/html": [
       "<div>\n",
       "<style scoped>\n",
       "    .dataframe tbody tr th:only-of-type {\n",
       "        vertical-align: middle;\n",
       "    }\n",
       "\n",
       "    .dataframe tbody tr th {\n",
       "        vertical-align: top;\n",
       "    }\n",
       "\n",
       "    .dataframe thead th {\n",
       "        text-align: right;\n",
       "    }\n",
       "</style>\n",
       "<table border=\"1\" class=\"dataframe\">\n",
       "  <thead>\n",
       "    <tr style=\"text-align: right;\">\n",
       "      <th></th>\n",
       "      <th>dept</th>\n",
       "      <th>floor</th>\n",
       "    </tr>\n",
       "  </thead>\n",
       "  <tbody>\n",
       "    <tr>\n",
       "      <th>0</th>\n",
       "      <td>CS</td>\n",
       "      <td>5</td>\n",
       "    </tr>\n",
       "    <tr>\n",
       "      <th>1</th>\n",
       "      <td>Bio</td>\n",
       "      <td>3</td>\n",
       "    </tr>\n",
       "    <tr>\n",
       "      <th>2</th>\n",
       "      <td>Chem</td>\n",
       "      <td>3</td>\n",
       "    </tr>\n",
       "    <tr>\n",
       "      <th>3</th>\n",
       "      <td>Phy</td>\n",
       "      <td>2</td>\n",
       "    </tr>\n",
       "    <tr>\n",
       "      <th>4</th>\n",
       "      <td>Eng</td>\n",
       "      <td>4</td>\n",
       "    </tr>\n",
       "  </tbody>\n",
       "</table>\n",
       "</div>"
      ],
      "text/plain": [
       "   dept  floor\n",
       "0    CS      5\n",
       "1   Bio      3\n",
       "2  Chem      3\n",
       "3   Phy      2\n",
       "4   Eng      4"
      ]
     },
     "execution_count": 45,
     "metadata": {},
     "output_type": "execute_result"
    }
   ],
   "source": [
    "df_1 = pd.DataFrame(schedule)\n",
    "df_1"
   ]
  },
  {
   "cell_type": "code",
   "execution_count": 46,
   "id": "3d27cad0",
   "metadata": {},
   "outputs": [
    {
     "data": {
      "text/plain": [
       "dept     CS\n",
       "floor     5\n",
       "Name: 0, dtype: object"
      ]
     },
     "execution_count": 46,
     "metadata": {},
     "output_type": "execute_result"
    }
   ],
   "source": [
    "#Access the first row:\n",
    "row_1 = df_1.iloc[0]\n",
    "row_1"
   ]
  },
  {
   "cell_type": "code",
   "execution_count": 47,
   "id": "bb68187a",
   "metadata": {},
   "outputs": [
    {
     "data": {
      "text/plain": [
       "0      CS\n",
       "1     Bio\n",
       "2    Chem\n",
       "3     Phy\n",
       "4     Eng\n",
       "Name: dept, dtype: object"
      ]
     },
     "execution_count": 47,
     "metadata": {},
     "output_type": "execute_result"
    }
   ],
   "source": [
    "#Access the first column data (indexed by 'dept') and print it.\n",
    "col_1 = df_1['dept']\n",
    "col_1"
   ]
  },
  {
   "cell_type": "code",
   "execution_count": 48,
   "id": "7f9c5107",
   "metadata": {},
   "outputs": [
    {
     "name": "stdout",
     "output_type": "stream",
     "text": [
      "   dept\n",
      "0    CS\n",
      "1   Bio\n",
      "2  Chem\n",
      "3   Phy\n",
      "4   Eng\n"
     ]
    }
   ],
   "source": [
    "#Create a new DataFrame by dropping the 2nd column data (indexed by 'floor') from the current DataFrame.\n",
    "df_2 = df_1.drop(['floor'],axis=1)\n",
    "print(df_2)"
   ]
  },
  {
   "cell_type": "markdown",
   "id": "f5c19d1d",
   "metadata": {},
   "source": []
  }
 ],
 "metadata": {
  "kernelspec": {
   "display_name": "Python 3 (ipykernel)",
   "language": "python",
   "name": "python3"
  },
  "language_info": {
   "codemirror_mode": {
    "name": "ipython",
    "version": 3
   },
   "file_extension": ".py",
   "mimetype": "text/x-python",
   "name": "python",
   "nbconvert_exporter": "python",
   "pygments_lexer": "ipython3",
   "version": "3.9.12"
  }
 },
 "nbformat": 4,
 "nbformat_minor": 5
}
